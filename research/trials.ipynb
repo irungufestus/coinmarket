{
 "cells": [
  {
   "cell_type": "code",
   "execution_count": 1,
   "metadata": {},
   "outputs": [],
   "source": [
    "from requests import get\n",
    "import json\n",
    "from datetime import datetime\n",
    "import time\n"
   ]
  },
  {
   "cell_type": "code",
   "execution_count": 10,
   "metadata": {},
   "outputs": [],
   "source": [
    "url='https://production.api.coindesk.com/v2/tb/price/ticker?assets='\n",
    "\n",
    "def scraper(args):\n",
    "    if len (args)== 0:\n",
    "        raise Exception (\"missinf args...\")\n",
    "    symbols=args[0]\n",
    "    final_url=url+symbols\n",
    "    individual_symbol=symbols.split(',')\n",
    "    results={}\n",
    "    i=0\n",
    "    while i< 20:\n",
    "        result=get(final_url)\n",
    "        json_data=result.json()\n",
    "        \n",
    "        \n",
    "        for s in individual_symbol:\n",
    "            if s not in results:\n",
    "                results[s]=[]\n",
    "            coin_data=json_data['data'][s]\n",
    "            result.append( {\n",
    "                \"iso\":coin_data['iso'],\n",
    "                \"name\":coin_data['name'],\n",
    "                \"current_price\":coin_data[\"ohlc\"][\"c\"],\n",
    "                \"time\":datetime.fromtimestamp(int(coin_data['ts']/1000)).isoformat()\n",
    "            })\n",
    "            time.sleep(15)\n",
    "            i=i+1\n",
    "    return results"
   ]
  },
  {
   "cell_type": "code",
   "execution_count": 9,
   "metadata": {},
   "outputs": [
    {
     "ename": "KeyError",
     "evalue": "'data'",
     "output_type": "error",
     "traceback": [
      "\u001b[1;31m---------------------------------------------------------------------------\u001b[0m",
      "\u001b[1;31mKeyError\u001b[0m                                  Traceback (most recent call last)",
      "Cell \u001b[1;32mIn[9], line 1\u001b[0m\n\u001b[1;32m----> 1\u001b[0m scraper(url)\n",
      "Cell \u001b[1;32mIn[8], line 19\u001b[0m, in \u001b[0;36mscraper\u001b[1;34m(args)\u001b[0m\n\u001b[0;32m     17\u001b[0m \u001b[39mif\u001b[39;00m s \u001b[39mnot\u001b[39;00m \u001b[39min\u001b[39;00m results:\n\u001b[0;32m     18\u001b[0m     results[s]\u001b[39m=\u001b[39m[]\n\u001b[1;32m---> 19\u001b[0m coin_data\u001b[39m=\u001b[39mjson_data[\u001b[39m'\u001b[39;49m\u001b[39mdata\u001b[39;49m\u001b[39m'\u001b[39;49m],[s]\n\u001b[0;32m     20\u001b[0m result\u001b[39m.\u001b[39mappend( {\n\u001b[0;32m     21\u001b[0m     \u001b[39m\"\u001b[39m\u001b[39miso\u001b[39m\u001b[39m\"\u001b[39m:coin_data[\u001b[39m'\u001b[39m\u001b[39miso\u001b[39m\u001b[39m'\u001b[39m],\n\u001b[0;32m     22\u001b[0m     \u001b[39m\"\u001b[39m\u001b[39mname\u001b[39m\u001b[39m\"\u001b[39m:coin_data[\u001b[39m'\u001b[39m\u001b[39mname\u001b[39m\u001b[39m'\u001b[39m],\n\u001b[0;32m     23\u001b[0m     \u001b[39m\"\u001b[39m\u001b[39mcurrent_price\u001b[39m\u001b[39m\"\u001b[39m:coin_data[\u001b[39m\"\u001b[39m\u001b[39mohlc\u001b[39m\u001b[39m\"\u001b[39m][\u001b[39m\"\u001b[39m\u001b[39mc\u001b[39m\u001b[39m\"\u001b[39m],\n\u001b[0;32m     24\u001b[0m     \u001b[39m\"\u001b[39m\u001b[39mtime\u001b[39m\u001b[39m\"\u001b[39m:datetime\u001b[39m.\u001b[39mfromtimestamp(\u001b[39mint\u001b[39m(coin_data[\u001b[39m'\u001b[39m\u001b[39mts\u001b[39m\u001b[39m'\u001b[39m]\u001b[39m/\u001b[39m\u001b[39m1000\u001b[39m))\u001b[39m.\u001b[39misoformat()\n\u001b[0;32m     25\u001b[0m })\n\u001b[0;32m     26\u001b[0m time\u001b[39m.\u001b[39msleep(\u001b[39m15\u001b[39m)\n",
      "\u001b[1;31mKeyError\u001b[0m: 'data'"
     ]
    }
   ],
   "source": [
    "scraper(url)"
   ]
  }
 ],
 "metadata": {
  "kernelspec": {
   "display_name": "marketcap",
   "language": "python",
   "name": "python3"
  },
  "language_info": {
   "codemirror_mode": {
    "name": "ipython",
    "version": 3
   },
   "file_extension": ".py",
   "mimetype": "text/x-python",
   "name": "python",
   "nbconvert_exporter": "python",
   "pygments_lexer": "ipython3",
   "version": "3.10.9"
  },
  "orig_nbformat": 4
 },
 "nbformat": 4,
 "nbformat_minor": 2
}
